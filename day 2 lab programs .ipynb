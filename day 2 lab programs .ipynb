{
  "nbformat": 4,
  "nbformat_minor": 0,
  "metadata": {
    "colab": {
      "provenance": []
    },
    "kernelspec": {
      "name": "python3",
      "display_name": "Python 3"
    },
    "language_info": {
      "name": "python"
    }
  },
  "cells": [
    {
      "cell_type": "code",
      "execution_count": 1,
      "metadata": {
        "colab": {
          "base_uri": "https://localhost:8080/",
          "height": 363
        },
        "id": "KoCVe6u18aJe",
        "outputId": "c070f9b9-a91d-4962-986f-433e67dc3525"
      },
      "outputs": [
        {
          "output_type": "execute_result",
          "data": {
            "text/plain": [
              "<pandas.io.formats.style.Styler at 0x7aeb4b2a68c0>"
            ],
            "text/html": [
              "<style type=\"text/css\">\n",
              "#T_c2bb0_row0_col0, #T_c2bb0_row0_col1, #T_c2bb0_row0_col2, #T_c2bb0_row0_col3, #T_c2bb0_row1_col0, #T_c2bb0_row1_col1, #T_c2bb0_row1_col2, #T_c2bb0_row1_col3, #T_c2bb0_row2_col1, #T_c2bb0_row2_col2, #T_c2bb0_row2_col3, #T_c2bb0_row3_col0, #T_c2bb0_row3_col1, #T_c2bb0_row3_col2, #T_c2bb0_row3_col3, #T_c2bb0_row4_col0, #T_c2bb0_row4_col1, #T_c2bb0_row4_col3, #T_c2bb0_row5_col0, #T_c2bb0_row5_col1, #T_c2bb0_row5_col2, #T_c2bb0_row5_col3, #T_c2bb0_row6_col0, #T_c2bb0_row6_col1, #T_c2bb0_row6_col2, #T_c2bb0_row6_col3, #T_c2bb0_row7_col0, #T_c2bb0_row7_col1, #T_c2bb0_row7_col2, #T_c2bb0_row8_col0, #T_c2bb0_row8_col1, #T_c2bb0_row8_col2, #T_c2bb0_row8_col3, #T_c2bb0_row9_col0, #T_c2bb0_row9_col1, #T_c2bb0_row9_col2, #T_c2bb0_row9_col3 {\n",
              "  color: black;\n",
              "}\n",
              "#T_c2bb0_row2_col0, #T_c2bb0_row4_col2, #T_c2bb0_row7_col3 {\n",
              "  color: red;\n",
              "}\n",
              "</style>\n",
              "<table id=\"T_c2bb0\" class=\"dataframe\">\n",
              "  <thead>\n",
              "    <tr>\n",
              "      <th class=\"blank level0\" >&nbsp;</th>\n",
              "      <th id=\"T_c2bb0_level0_col0\" class=\"col_heading level0 col0\" >A</th>\n",
              "      <th id=\"T_c2bb0_level0_col1\" class=\"col_heading level0 col1\" >B</th>\n",
              "      <th id=\"T_c2bb0_level0_col2\" class=\"col_heading level0 col2\" >C</th>\n",
              "      <th id=\"T_c2bb0_level0_col3\" class=\"col_heading level0 col3\" >D</th>\n",
              "    </tr>\n",
              "  </thead>\n",
              "  <tbody>\n",
              "    <tr>\n",
              "      <th id=\"T_c2bb0_level0_row0\" class=\"row_heading level0 row0\" >0</th>\n",
              "      <td id=\"T_c2bb0_row0_col0\" class=\"data row0 col0\" >0.440279</td>\n",
              "      <td id=\"T_c2bb0_row0_col1\" class=\"data row0 col1\" >0.175803</td>\n",
              "      <td id=\"T_c2bb0_row0_col2\" class=\"data row0 col2\" >0.228327</td>\n",
              "      <td id=\"T_c2bb0_row0_col3\" class=\"data row0 col3\" >0.723298</td>\n",
              "    </tr>\n",
              "    <tr>\n",
              "      <th id=\"T_c2bb0_level0_row1\" class=\"row_heading level0 row1\" >1</th>\n",
              "      <td id=\"T_c2bb0_row1_col0\" class=\"data row1 col0\" >0.172452</td>\n",
              "      <td id=\"T_c2bb0_row1_col1\" class=\"data row1 col1\" >0.857942</td>\n",
              "      <td id=\"T_c2bb0_row1_col2\" class=\"data row1 col2\" >0.013090</td>\n",
              "      <td id=\"T_c2bb0_row1_col3\" class=\"data row1 col3\" >0.514963</td>\n",
              "    </tr>\n",
              "    <tr>\n",
              "      <th id=\"T_c2bb0_level0_row2\" class=\"row_heading level0 row2\" >2</th>\n",
              "      <td id=\"T_c2bb0_row2_col0\" class=\"data row2 col0\" >nan</td>\n",
              "      <td id=\"T_c2bb0_row2_col1\" class=\"data row2 col1\" >0.590690</td>\n",
              "      <td id=\"T_c2bb0_row2_col2\" class=\"data row2 col2\" >0.095829</td>\n",
              "      <td id=\"T_c2bb0_row2_col3\" class=\"data row2 col3\" >0.620342</td>\n",
              "    </tr>\n",
              "    <tr>\n",
              "      <th id=\"T_c2bb0_level0_row3\" class=\"row_heading level0 row3\" >3</th>\n",
              "      <td id=\"T_c2bb0_row3_col0\" class=\"data row3 col0\" >0.837139</td>\n",
              "      <td id=\"T_c2bb0_row3_col1\" class=\"data row3 col1\" >0.603001</td>\n",
              "      <td id=\"T_c2bb0_row3_col2\" class=\"data row3 col2\" >0.527883</td>\n",
              "      <td id=\"T_c2bb0_row3_col3\" class=\"data row3 col3\" >0.291659</td>\n",
              "    </tr>\n",
              "    <tr>\n",
              "      <th id=\"T_c2bb0_level0_row4\" class=\"row_heading level0 row4\" >4</th>\n",
              "      <td id=\"T_c2bb0_row4_col0\" class=\"data row4 col0\" >0.389044</td>\n",
              "      <td id=\"T_c2bb0_row4_col1\" class=\"data row4 col1\" >0.496081</td>\n",
              "      <td id=\"T_c2bb0_row4_col2\" class=\"data row4 col2\" >nan</td>\n",
              "      <td id=\"T_c2bb0_row4_col3\" class=\"data row4 col3\" >0.879281</td>\n",
              "    </tr>\n",
              "    <tr>\n",
              "      <th id=\"T_c2bb0_level0_row5\" class=\"row_heading level0 row5\" >5</th>\n",
              "      <td id=\"T_c2bb0_row5_col0\" class=\"data row5 col0\" >0.742001</td>\n",
              "      <td id=\"T_c2bb0_row5_col1\" class=\"data row5 col1\" >0.524460</td>\n",
              "      <td id=\"T_c2bb0_row5_col2\" class=\"data row5 col2\" >0.977789</td>\n",
              "      <td id=\"T_c2bb0_row5_col3\" class=\"data row5 col3\" >0.727609</td>\n",
              "    </tr>\n",
              "    <tr>\n",
              "      <th id=\"T_c2bb0_level0_row6\" class=\"row_heading level0 row6\" >6</th>\n",
              "      <td id=\"T_c2bb0_row6_col0\" class=\"data row6 col0\" >0.615492</td>\n",
              "      <td id=\"T_c2bb0_row6_col1\" class=\"data row6 col1\" >0.002503</td>\n",
              "      <td id=\"T_c2bb0_row6_col2\" class=\"data row6 col2\" >0.968179</td>\n",
              "      <td id=\"T_c2bb0_row6_col3\" class=\"data row6 col3\" >0.294871</td>\n",
              "    </tr>\n",
              "    <tr>\n",
              "      <th id=\"T_c2bb0_level0_row7\" class=\"row_heading level0 row7\" >7</th>\n",
              "      <td id=\"T_c2bb0_row7_col0\" class=\"data row7 col0\" >0.543251</td>\n",
              "      <td id=\"T_c2bb0_row7_col1\" class=\"data row7 col1\" >0.212199</td>\n",
              "      <td id=\"T_c2bb0_row7_col2\" class=\"data row7 col2\" >0.012779</td>\n",
              "      <td id=\"T_c2bb0_row7_col3\" class=\"data row7 col3\" >nan</td>\n",
              "    </tr>\n",
              "    <tr>\n",
              "      <th id=\"T_c2bb0_level0_row8\" class=\"row_heading level0 row8\" >8</th>\n",
              "      <td id=\"T_c2bb0_row8_col0\" class=\"data row8 col0\" >0.903590</td>\n",
              "      <td id=\"T_c2bb0_row8_col1\" class=\"data row8 col1\" >0.660730</td>\n",
              "      <td id=\"T_c2bb0_row8_col2\" class=\"data row8 col2\" >0.367628</td>\n",
              "      <td id=\"T_c2bb0_row8_col3\" class=\"data row8 col3\" >0.723401</td>\n",
              "    </tr>\n",
              "    <tr>\n",
              "      <th id=\"T_c2bb0_level0_row9\" class=\"row_heading level0 row9\" >9</th>\n",
              "      <td id=\"T_c2bb0_row9_col0\" class=\"data row9 col0\" >0.896460</td>\n",
              "      <td id=\"T_c2bb0_row9_col1\" class=\"data row9 col1\" >0.095505</td>\n",
              "      <td id=\"T_c2bb0_row9_col2\" class=\"data row9 col2\" >0.471454</td>\n",
              "      <td id=\"T_c2bb0_row9_col3\" class=\"data row9 col3\" >0.958073</td>\n",
              "    </tr>\n",
              "  </tbody>\n",
              "</table>\n"
            ]
          },
          "metadata": {},
          "execution_count": 1
        }
      ],
      "source": [
        "import pandas as pd\n",
        "import numpy as np\n",
        "\n",
        "data = np.random.rand(10, 4)\n",
        "df = pd.DataFrame(data, columns=['A', 'B', 'C', 'D'])\n",
        "\n",
        "df.iloc[2, 0] = np.nan\n",
        "df.iloc[4, 2] = np.nan\n",
        "df.iloc[7, 3] = np.nan\n",
        "\n",
        "def highlight_nan(val):\n",
        "    color = 'red' if pd.isna(val) else 'black'\n",
        "    return 'color: {}'.format(color)\n",
        "\n",
        "styled_df = df.style.applymap(highlight_nan)\n",
        "\n",
        "styled_df\n"
      ]
    },
    {
      "cell_type": "code",
      "source": [
        "import pandas as pd\n",
        "import numpy as np\n",
        "\n",
        "data = np.random.rand(10, 4)\n",
        "df = pd.DataFrame(data, columns=['A', 'B', 'C', 'D'])\n",
        "\n",
        "def black_background_yellow_font(val):\n",
        "    return 'background-color: black; color: yellow'\n",
        "\n",
        "styled_df = df.style.applymap(black_background_yellow_font)\n",
        "\n",
        "styled_df.hide_index().set_properties(**{'border': 'none'})\n"
      ],
      "metadata": {
        "colab": {
          "base_uri": "https://localhost:8080/",
          "height": 399
        },
        "id": "vy_WewMu9JM0",
        "outputId": "9466db1b-b4b7-4e5c-bf90-6c19862b8984"
      },
      "execution_count": 2,
      "outputs": [
        {
          "output_type": "stream",
          "name": "stderr",
          "text": [
            "<ipython-input-2-6efe36a3ce97>:12: FutureWarning: this method is deprecated in favour of `Styler.hide(axis=\"index\")`\n",
            "  styled_df.hide_index().set_properties(**{'border': 'none'})\n"
          ]
        },
        {
          "output_type": "execute_result",
          "data": {
            "text/plain": [
              "<pandas.io.formats.style.Styler at 0x7aeb4b2a65f0>"
            ],
            "text/html": [
              "<style type=\"text/css\">\n",
              "#T_9f7ff_row0_col0, #T_9f7ff_row0_col1, #T_9f7ff_row0_col2, #T_9f7ff_row0_col3, #T_9f7ff_row1_col0, #T_9f7ff_row1_col1, #T_9f7ff_row1_col2, #T_9f7ff_row1_col3, #T_9f7ff_row2_col0, #T_9f7ff_row2_col1, #T_9f7ff_row2_col2, #T_9f7ff_row2_col3, #T_9f7ff_row3_col0, #T_9f7ff_row3_col1, #T_9f7ff_row3_col2, #T_9f7ff_row3_col3, #T_9f7ff_row4_col0, #T_9f7ff_row4_col1, #T_9f7ff_row4_col2, #T_9f7ff_row4_col3, #T_9f7ff_row5_col0, #T_9f7ff_row5_col1, #T_9f7ff_row5_col2, #T_9f7ff_row5_col3, #T_9f7ff_row6_col0, #T_9f7ff_row6_col1, #T_9f7ff_row6_col2, #T_9f7ff_row6_col3, #T_9f7ff_row7_col0, #T_9f7ff_row7_col1, #T_9f7ff_row7_col2, #T_9f7ff_row7_col3, #T_9f7ff_row8_col0, #T_9f7ff_row8_col1, #T_9f7ff_row8_col2, #T_9f7ff_row8_col3, #T_9f7ff_row9_col0, #T_9f7ff_row9_col1, #T_9f7ff_row9_col2, #T_9f7ff_row9_col3 {\n",
              "  background-color: black;\n",
              "  color: yellow;\n",
              "  border: none;\n",
              "}\n",
              "</style>\n",
              "<table id=\"T_9f7ff\" class=\"dataframe\">\n",
              "  <thead>\n",
              "    <tr>\n",
              "      <th id=\"T_9f7ff_level0_col0\" class=\"col_heading level0 col0\" >A</th>\n",
              "      <th id=\"T_9f7ff_level0_col1\" class=\"col_heading level0 col1\" >B</th>\n",
              "      <th id=\"T_9f7ff_level0_col2\" class=\"col_heading level0 col2\" >C</th>\n",
              "      <th id=\"T_9f7ff_level0_col3\" class=\"col_heading level0 col3\" >D</th>\n",
              "    </tr>\n",
              "  </thead>\n",
              "  <tbody>\n",
              "    <tr>\n",
              "      <td id=\"T_9f7ff_row0_col0\" class=\"data row0 col0\" >0.102202</td>\n",
              "      <td id=\"T_9f7ff_row0_col1\" class=\"data row0 col1\" >0.440268</td>\n",
              "      <td id=\"T_9f7ff_row0_col2\" class=\"data row0 col2\" >0.470743</td>\n",
              "      <td id=\"T_9f7ff_row0_col3\" class=\"data row0 col3\" >0.251335</td>\n",
              "    </tr>\n",
              "    <tr>\n",
              "      <td id=\"T_9f7ff_row1_col0\" class=\"data row1 col0\" >0.309542</td>\n",
              "      <td id=\"T_9f7ff_row1_col1\" class=\"data row1 col1\" >0.139169</td>\n",
              "      <td id=\"T_9f7ff_row1_col2\" class=\"data row1 col2\" >0.115367</td>\n",
              "      <td id=\"T_9f7ff_row1_col3\" class=\"data row1 col3\" >0.930355</td>\n",
              "    </tr>\n",
              "    <tr>\n",
              "      <td id=\"T_9f7ff_row2_col0\" class=\"data row2 col0\" >0.126522</td>\n",
              "      <td id=\"T_9f7ff_row2_col1\" class=\"data row2 col1\" >0.785577</td>\n",
              "      <td id=\"T_9f7ff_row2_col2\" class=\"data row2 col2\" >0.756726</td>\n",
              "      <td id=\"T_9f7ff_row2_col3\" class=\"data row2 col3\" >0.516969</td>\n",
              "    </tr>\n",
              "    <tr>\n",
              "      <td id=\"T_9f7ff_row3_col0\" class=\"data row3 col0\" >0.298227</td>\n",
              "      <td id=\"T_9f7ff_row3_col1\" class=\"data row3 col1\" >0.324906</td>\n",
              "      <td id=\"T_9f7ff_row3_col2\" class=\"data row3 col2\" >0.884268</td>\n",
              "      <td id=\"T_9f7ff_row3_col3\" class=\"data row3 col3\" >0.524737</td>\n",
              "    </tr>\n",
              "    <tr>\n",
              "      <td id=\"T_9f7ff_row4_col0\" class=\"data row4 col0\" >0.078790</td>\n",
              "      <td id=\"T_9f7ff_row4_col1\" class=\"data row4 col1\" >0.455507</td>\n",
              "      <td id=\"T_9f7ff_row4_col2\" class=\"data row4 col2\" >0.151481</td>\n",
              "      <td id=\"T_9f7ff_row4_col3\" class=\"data row4 col3\" >0.684066</td>\n",
              "    </tr>\n",
              "    <tr>\n",
              "      <td id=\"T_9f7ff_row5_col0\" class=\"data row5 col0\" >0.934260</td>\n",
              "      <td id=\"T_9f7ff_row5_col1\" class=\"data row5 col1\" >0.157209</td>\n",
              "      <td id=\"T_9f7ff_row5_col2\" class=\"data row5 col2\" >0.198480</td>\n",
              "      <td id=\"T_9f7ff_row5_col3\" class=\"data row5 col3\" >0.372317</td>\n",
              "    </tr>\n",
              "    <tr>\n",
              "      <td id=\"T_9f7ff_row6_col0\" class=\"data row6 col0\" >0.910030</td>\n",
              "      <td id=\"T_9f7ff_row6_col1\" class=\"data row6 col1\" >0.271930</td>\n",
              "      <td id=\"T_9f7ff_row6_col2\" class=\"data row6 col2\" >0.379848</td>\n",
              "      <td id=\"T_9f7ff_row6_col3\" class=\"data row6 col3\" >0.291762</td>\n",
              "    </tr>\n",
              "    <tr>\n",
              "      <td id=\"T_9f7ff_row7_col0\" class=\"data row7 col0\" >0.109049</td>\n",
              "      <td id=\"T_9f7ff_row7_col1\" class=\"data row7 col1\" >0.999048</td>\n",
              "      <td id=\"T_9f7ff_row7_col2\" class=\"data row7 col2\" >0.031896</td>\n",
              "      <td id=\"T_9f7ff_row7_col3\" class=\"data row7 col3\" >0.437490</td>\n",
              "    </tr>\n",
              "    <tr>\n",
              "      <td id=\"T_9f7ff_row8_col0\" class=\"data row8 col0\" >0.756076</td>\n",
              "      <td id=\"T_9f7ff_row8_col1\" class=\"data row8 col1\" >0.897150</td>\n",
              "      <td id=\"T_9f7ff_row8_col2\" class=\"data row8 col2\" >0.871173</td>\n",
              "      <td id=\"T_9f7ff_row8_col3\" class=\"data row8 col3\" >0.187313</td>\n",
              "    </tr>\n",
              "    <tr>\n",
              "      <td id=\"T_9f7ff_row9_col0\" class=\"data row9 col0\" >0.772895</td>\n",
              "      <td id=\"T_9f7ff_row9_col1\" class=\"data row9 col1\" >0.692711</td>\n",
              "      <td id=\"T_9f7ff_row9_col2\" class=\"data row9 col2\" >0.072534</td>\n",
              "      <td id=\"T_9f7ff_row9_col3\" class=\"data row9 col3\" >0.267569</td>\n",
              "    </tr>\n",
              "  </tbody>\n",
              "</table>\n"
            ]
          },
          "metadata": {},
          "execution_count": 2
        }
      ]
    },
    {
      "cell_type": "code",
      "source": [
        "import pandas as pd\n",
        "import numpy as np\n",
        "\n",
        "data = {'A': [1, 2, np.nan, 4],\n",
        "        'B': [5, np.nan, np.nan, 8],\n",
        "        'C': [np.nan, 10, 11, 12]}\n",
        "df = pd.DataFrame(data)\n",
        "\n",
        "missing_values = df.isna()\n",
        "\n",
        "print(missing_values)\n"
      ],
      "metadata": {
        "colab": {
          "base_uri": "https://localhost:8080/"
        },
        "id": "cFjHYbrn9Vui",
        "outputId": "7097c360-23f6-4782-82d0-77a0909a830d"
      },
      "execution_count": 3,
      "outputs": [
        {
          "output_type": "stream",
          "name": "stdout",
          "text": [
            "       A      B      C\n",
            "0  False  False   True\n",
            "1  False   True  False\n",
            "2   True   True  False\n",
            "3  False  False  False\n"
          ]
        }
      ]
    },
    {
      "cell_type": "code",
      "source": [
        "import pandas as pd\n",
        "import numpy as np\n",
        "\n",
        "data = {'A': [1, np.nan, 3, 4],\n",
        "        'B': [5, np.nan, np.nan, 8],\n",
        "        'C': [np.nan, 10, 11, np.nan]}\n",
        "df = pd.DataFrame(data)\n",
        "\n",
        "print(\"Original DataFrame:\")\n",
        "print(df)\n",
        "\n",
        "df_dropped_rows = df.dropna(axis=0, how='all')\n",
        "\n",
        "df_dropped_cols = df.dropna(axis=1, how='all')\n",
        "\n",
        "df_filled = df.fillna(0)\n",
        "\n",
        "df_interpolated = df.interpolate()\n",
        "\n",
        "print(\"\\nDataFrame after dropping rows with all NaN values:\")\n",
        "print(df_dropped_rows)\n",
        "print(\"\\nDataFrame after dropping columns with all NaN values:\")\n",
        "print(df_dropped_cols)\n",
        "print(\"\\nDataFrame after filling missing values with 0:\")\n",
        "print(df_filled)\n",
        "print(\"\\nDataFrame after interpolating missing values:\")\n",
        "print(df_interpolated)\n"
      ],
      "metadata": {
        "colab": {
          "base_uri": "https://localhost:8080/"
        },
        "id": "iWzcraRH9kGJ",
        "outputId": "8bd3b53e-6d8e-4f4c-acb7-9c601bd57cdd"
      },
      "execution_count": 4,
      "outputs": [
        {
          "output_type": "stream",
          "name": "stdout",
          "text": [
            "Original DataFrame:\n",
            "     A    B     C\n",
            "0  1.0  5.0   NaN\n",
            "1  NaN  NaN  10.0\n",
            "2  3.0  NaN  11.0\n",
            "3  4.0  8.0   NaN\n",
            "\n",
            "DataFrame after dropping rows with all NaN values:\n",
            "     A    B     C\n",
            "0  1.0  5.0   NaN\n",
            "1  NaN  NaN  10.0\n",
            "2  3.0  NaN  11.0\n",
            "3  4.0  8.0   NaN\n",
            "\n",
            "DataFrame after dropping columns with all NaN values:\n",
            "     A    B     C\n",
            "0  1.0  5.0   NaN\n",
            "1  NaN  NaN  10.0\n",
            "2  3.0  NaN  11.0\n",
            "3  4.0  8.0   NaN\n",
            "\n",
            "DataFrame after filling missing values with 0:\n",
            "     A    B     C\n",
            "0  1.0  5.0   0.0\n",
            "1  0.0  0.0  10.0\n",
            "2  3.0  0.0  11.0\n",
            "3  4.0  8.0   0.0\n",
            "\n",
            "DataFrame after interpolating missing values:\n",
            "     A    B     C\n",
            "0  1.0  5.0   NaN\n",
            "1  2.0  6.0  10.0\n",
            "2  3.0  7.0  11.0\n",
            "3  4.0  8.0  11.0\n"
          ]
        }
      ]
    },
    {
      "cell_type": "code",
      "source": [
        "import pandas as pd\n",
        "import numpy as np\n",
        "\n",
        "data = {'A': [1, np.nan, np.nan, 4],\n",
        "        'B': [5, np.nan, np.nan, 8],\n",
        "        'C': [np.nan, 10, 11, np.nan]}\n",
        "df = pd.DataFrame(data)\n",
        "\n",
        "df_at_least_2_nan = df.dropna(thresh=2)\n",
        "\n",
        "print(df_at_least_2_nan)\n"
      ],
      "metadata": {
        "colab": {
          "base_uri": "https://localhost:8080/"
        },
        "id": "uQkNtsnB9v8O",
        "outputId": "2c8e95bd-bd56-4cfd-beab-d717b896bdb9"
      },
      "execution_count": 5,
      "outputs": [
        {
          "output_type": "stream",
          "name": "stdout",
          "text": [
            "     A    B   C\n",
            "0  1.0  5.0 NaN\n",
            "3  4.0  8.0 NaN\n"
          ]
        }
      ]
    },
    {
      "cell_type": "code",
      "source": [
        "import pandas as pd\n",
        "\n",
        "data = {'Name': ['Alice', 'Bob', 'Charlie', 'David', 'Emma', 'Frank', 'Grace', 'Henry'],\n",
        "        'Age': [25, 30, 35, 40, 45, 50, 55, 60],\n",
        "        'School_Code': ['S001', 'S002', 'S001', 'S003', 'S002', 'S001', 'S003', 'S002']}\n",
        "df = pd.DataFrame(data)\n",
        "\n",
        "grouped = df.groupby('School_Code')\n",
        "\n",
        "print(\"Type of GroupBy object:\", type(grouped))\n"
      ],
      "metadata": {
        "colab": {
          "base_uri": "https://localhost:8080/"
        },
        "id": "3Gfq3h8n97fM",
        "outputId": "d03f9950-8ad7-488b-9518-df550a70d162"
      },
      "execution_count": 7,
      "outputs": [
        {
          "output_type": "stream",
          "name": "stdout",
          "text": [
            "Type of GroupBy object: <class 'pandas.core.groupby.generic.DataFrameGroupBy'>\n"
          ]
        }
      ]
    },
    {
      "cell_type": "code",
      "source": [
        "import pandas as pd\n",
        "\n",
        "data = {'Name': ['Alice', 'Bob', 'Charlie', 'David', 'Emma', 'Frank', 'Grace', 'Henry'],\n",
        "        'Age': [25, 30, 35, 40, 45, 50, 55, 60],\n",
        "        'School_Code': ['S001', 'S002', 'S001', 'S003', 'S002', 'S001', 'S003', 'S002']}\n",
        "df = pd.DataFrame(data)\n",
        "\n",
        "school_stats = df.groupby('School_Code')['Age'].agg(['mean', 'min', 'max'])\n",
        "\n",
        "print(\"Mean, Min, and Max Age for each School:\")\n",
        "print(school_stats)\n"
      ],
      "metadata": {
        "colab": {
          "base_uri": "https://localhost:8080/"
        },
        "id": "GYvcQadM9_Zt",
        "outputId": "dd1e622c-e331-48ae-98ef-8aa7ea3b7f2b"
      },
      "execution_count": 8,
      "outputs": [
        {
          "output_type": "stream",
          "name": "stdout",
          "text": [
            "Mean, Min, and Max Age for each School:\n",
            "                  mean  min  max\n",
            "School_Code                     \n",
            "S001         36.666667   25   50\n",
            "S002         45.000000   30   60\n",
            "S003         47.500000   40   55\n"
          ]
        }
      ]
    },
    {
      "cell_type": "code",
      "source": [
        "import pandas as pd\n",
        "\n",
        "data = {'Name': ['Alice', 'Bob', 'Charlie', 'David', 'Emma', 'Frank', 'Grace', 'Henry'],\n",
        "        'Age': [25, 30, 35, 40, 45, 50, 55, 60],\n",
        "        'School_Code': ['S001', 'S002', 'S001', 'S003', 'S002', 'S001', 'S003', 'S002'],\n",
        "        'Class': ['A', 'B', 'A', 'C', 'B', 'A', 'C', 'B']}\n",
        "df = pd.DataFrame(data)\n",
        "\n",
        "grouped = df.groupby(['School_Code', 'Class'])\n",
        "\n",
        "for group_name, group_df in grouped:\n",
        "    print(\"Group:\", group_name)\n",
        "    print(group_df)\n",
        "    print()\n"
      ],
      "metadata": {
        "colab": {
          "base_uri": "https://localhost:8080/"
        },
        "id": "tpXjWzCf-GmZ",
        "outputId": "9b9c4de9-d5f7-4619-94ca-315c4eb9f0b8"
      },
      "execution_count": 9,
      "outputs": [
        {
          "output_type": "stream",
          "name": "stdout",
          "text": [
            "Group: ('S001', 'A')\n",
            "      Name  Age School_Code Class\n",
            "0    Alice   25        S001     A\n",
            "2  Charlie   35        S001     A\n",
            "5    Frank   50        S001     A\n",
            "\n",
            "Group: ('S002', 'B')\n",
            "    Name  Age School_Code Class\n",
            "1    Bob   30        S002     B\n",
            "4   Emma   45        S002     B\n",
            "7  Henry   60        S002     B\n",
            "\n",
            "Group: ('S003', 'C')\n",
            "    Name  Age School_Code Class\n",
            "3  David   40        S003     C\n",
            "6  Grace   55        S003     C\n",
            "\n"
          ]
        }
      ]
    },
    {
      "cell_type": "code",
      "source": [
        "import pandas as pd\n",
        "\n",
        "url = \"https://raw.githubusercontent.com/fivethirtyeight/data/master/alcohol-consumption/drinks.csv\"\n",
        "drinks_df = pd.read_csv(url)\n",
        "\n",
        "print(\"Dimensions of the dataset:\", drinks_df.shape)\n",
        "\n",
        "column_names = drinks_df.columns\n",
        "print(\"\\nColumn names:\")\n",
        "for column in column_names:\n",
        "    print(column)\n"
      ],
      "metadata": {
        "colab": {
          "base_uri": "https://localhost:8080/"
        },
        "id": "s6n2agoB-S6r",
        "outputId": "f5be1ef9-b211-4001-9b2c-03c8e368eaa8"
      },
      "execution_count": 10,
      "outputs": [
        {
          "output_type": "stream",
          "name": "stdout",
          "text": [
            "Dimensions of the dataset: (193, 5)\n",
            "\n",
            "Column names:\n",
            "country\n",
            "beer_servings\n",
            "spirit_servings\n",
            "wine_servings\n",
            "total_litres_of_pure_alcohol\n"
          ]
        }
      ]
    },
    {
      "cell_type": "code",
      "source": [
        "import pandas as pd\n",
        "\n",
        "data = {'Column': ['apple', 'banana', 'orange', 'grape', 'kiwi']}\n",
        "df = pd.DataFrame(data)\n",
        "\n",
        "substring = 'an'\n",
        "\n",
        "index_with_substring = df[df['Column'].str.contains(substring)].index\n",
        "\n",
        "print(\"Index of rows containing the substring:\", index_with_substring)\n"
      ],
      "metadata": {
        "colab": {
          "base_uri": "https://localhost:8080/"
        },
        "id": "y5oGAJPC-XYW",
        "outputId": "aefd5d3f-4c94-4083-b2e8-0f09b1eed633"
      },
      "execution_count": 11,
      "outputs": [
        {
          "output_type": "stream",
          "name": "stdout",
          "text": [
            "Index of rows containing the substring: Int64Index([1, 2], dtype='int64')\n"
          ]
        }
      ]
    }
  ]
}